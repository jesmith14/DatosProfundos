{
 "cells": [
  {
   "cell_type": "markdown",
   "metadata": {},
   "source": [
    "# Taller de Datos Abiertos\n",
    "\n",
    "**Nivel : Medio**\n",
    "\n",
    "Este Jupyter Notebook es para aprender conceptos básicos de la ciencia de datos utilizando la plataforma Datos Abiertos de Cali, Colombia. En este libro aprenderá cómo:\n",
    "- Recopilar datos de una API\n",
    "- Datos limpios\n",
    "- Visualizar y trazar datos\n",
    "- Crea un visual genial de datos"
   ]
  },
  {
   "cell_type": "markdown",
   "metadata": {},
   "source": [
    "<hr/>"
   ]
  },
  {
   "cell_type": "markdown",
   "metadata": {},
   "source": [
    "# 1. Obtener Los Datos\n",
    "\n",
    "\n",
    "- Queremos este conjunto de datos : [Homicidios comunes en el Municipio de Santiago de Cali](http://datos.cali.gov.co/dataset/homicidios-comunes-en-el-municipio-de-santiago-de-cali-segun-comuna-del-hecho-2001-2017/resource/670f2cd8-3b5f-4657-a136-577afefc38be)\n",
    "\n",
    "- Podemos usar la **API** para recopilar los datos. El *API Endpoint* es esto:\n",
    "\n",
    "http://datos.cali.gov.co/en/api/3/action/datastore_search?resource_id=670f2cd8-3b5f-4657-a136-577afefc38be"
   ]
  },
  {
   "cell_type": "code",
   "execution_count": 1,
   "metadata": {
    "collapsed": true
   },
   "outputs": [],
   "source": [
    "#Library para usar APIs\n",
    "import requests\n",
    "import json\n",
    "#API Endpoint (de la plataforma de Datos Abiertos)\n",
    "url = 'http://datos.cali.gov.co/en/api/3/action/datastore_search?resource_id=670f2cd8-3b5f-4657-a136-577afefc38be'"
   ]
  },
  {
   "cell_type": "markdown",
   "metadata": {},
   "source": [
    "### Usa la API y obtén una respuesta en json\n",
    "(indicio: mira el documentación de <a href='https://realpython.com/python-requests'>requests</a>)"
   ]
  },
  {
   "cell_type": "code",
   "execution_count": 2,
   "metadata": {
    "collapsed": true
   },
   "outputs": [],
   "source": [
    "#usa la api y obtén una respuesta\n",
    "response = requests.request(\"GET\", url)\n",
    "#cambiar la respuesta en un objeto json\n"
   ]
  },
  {
   "cell_type": "code",
   "execution_count": 3,
   "metadata": {
    "collapsed": true
   },
   "outputs": [],
   "source": [
    "#mira el objecto json\n"
   ]
  },
  {
   "cell_type": "markdown",
   "metadata": {},
   "source": [
    "<hr/>"
   ]
  },
  {
   "cell_type": "markdown",
   "metadata": {},
   "source": [
    "# 2. Limpiar Los Datos"
   ]
  },
  {
   "cell_type": "code",
   "execution_count": 4,
   "metadata": {
    "collapsed": true
   },
   "outputs": [],
   "source": [
    "import pandas as pd"
   ]
  },
  {
   "cell_type": "markdown",
   "metadata": {},
   "source": [
    "### Crear un DataFrame con el objecto de json y limpialo\n",
    "\n",
    "- **Usa la <a href='https://pandas.pydata.org/pandas-docs/stable/reference/api/pandas.DataFrame.html'>library para dataframes con pandas</a>**\n",
    "\n",
    "- En el fin, el DataFrame debería verse así :"
   ]
  },
  {
   "cell_type": "code",
   "execution_count": 5,
   "metadata": {},
   "outputs": [
    {
     "data": {
      "text/html": [
       "<div>\n",
       "<style>\n",
       "    .dataframe thead tr:only-child th {\n",
       "        text-align: right;\n",
       "    }\n",
       "\n",
       "    .dataframe thead th {\n",
       "        text-align: left;\n",
       "    }\n",
       "\n",
       "    .dataframe tbody tr th {\n",
       "        vertical-align: top;\n",
       "    }\n",
       "</style>\n",
       "<table border=\"1\" class=\"dataframe\">\n",
       "  <thead>\n",
       "    <tr style=\"text-align: right;\">\n",
       "      <th></th>\n",
       "      <th>No</th>\n",
       "      <th>2001</th>\n",
       "      <th>2002</th>\n",
       "      <th>2003</th>\n",
       "      <th>2004</th>\n",
       "      <th>2005</th>\n",
       "      <th>2006</th>\n",
       "      <th>2007</th>\n",
       "      <th>2008</th>\n",
       "      <th>2009</th>\n",
       "      <th>2010</th>\n",
       "      <th>2011</th>\n",
       "      <th>2012</th>\n",
       "      <th>2013</th>\n",
       "      <th>2014</th>\n",
       "      <th>2015</th>\n",
       "      <th>2016</th>\n",
       "    </tr>\n",
       "  </thead>\n",
       "  <tbody>\n",
       "    <tr>\n",
       "      <th>0</th>\n",
       "      <td>1</td>\n",
       "      <td>39</td>\n",
       "      <td>29</td>\n",
       "      <td>46</td>\n",
       "      <td>2</td>\n",
       "      <td>26</td>\n",
       "      <td>27</td>\n",
       "      <td>25</td>\n",
       "      <td>27</td>\n",
       "      <td>46</td>\n",
       "      <td>57</td>\n",
       "      <td>47</td>\n",
       "      <td>42</td>\n",
       "      <td>54</td>\n",
       "      <td>39</td>\n",
       "      <td>26</td>\n",
       "      <td>27</td>\n",
       "    </tr>\n",
       "    <tr>\n",
       "      <th>1</th>\n",
       "      <td>2</td>\n",
       "      <td>46</td>\n",
       "      <td>66</td>\n",
       "      <td>57</td>\n",
       "      <td>43</td>\n",
       "      <td>50</td>\n",
       "      <td>51</td>\n",
       "      <td>39</td>\n",
       "      <td>50</td>\n",
       "      <td>49</td>\n",
       "      <td>49</td>\n",
       "      <td>27</td>\n",
       "      <td>37</td>\n",
       "      <td>29</td>\n",
       "      <td>33</td>\n",
       "      <td>26</td>\n",
       "      <td>33</td>\n",
       "    </tr>\n",
       "    <tr>\n",
       "      <th>2</th>\n",
       "      <td>3</td>\n",
       "      <td>83</td>\n",
       "      <td>79</td>\n",
       "      <td>83</td>\n",
       "      <td>64</td>\n",
       "      <td>75</td>\n",
       "      <td>54</td>\n",
       "      <td>58</td>\n",
       "      <td>53</td>\n",
       "      <td>65</td>\n",
       "      <td>66</td>\n",
       "      <td>44</td>\n",
       "      <td>43</td>\n",
       "      <td>40</td>\n",
       "      <td>38</td>\n",
       "      <td>41</td>\n",
       "      <td>42</td>\n",
       "    </tr>\n",
       "    <tr>\n",
       "      <th>3</th>\n",
       "      <td>4</td>\n",
       "      <td>76</td>\n",
       "      <td>82</td>\n",
       "      <td>76</td>\n",
       "      <td>69</td>\n",
       "      <td>63</td>\n",
       "      <td>74</td>\n",
       "      <td>46</td>\n",
       "      <td>44</td>\n",
       "      <td>73</td>\n",
       "      <td>38</td>\n",
       "      <td>56</td>\n",
       "      <td>44</td>\n",
       "      <td>45</td>\n",
       "      <td>32</td>\n",
       "      <td>34</td>\n",
       "      <td>31</td>\n",
       "    </tr>\n",
       "    <tr>\n",
       "      <th>4</th>\n",
       "      <td>5</td>\n",
       "      <td>31</td>\n",
       "      <td>23</td>\n",
       "      <td>45</td>\n",
       "      <td>80</td>\n",
       "      <td>25</td>\n",
       "      <td>27</td>\n",
       "      <td>25</td>\n",
       "      <td>26</td>\n",
       "      <td>27</td>\n",
       "      <td>26</td>\n",
       "      <td>23</td>\n",
       "      <td>39</td>\n",
       "      <td>19</td>\n",
       "      <td>20</td>\n",
       "      <td>19</td>\n",
       "      <td>18</td>\n",
       "    </tr>\n",
       "  </tbody>\n",
       "</table>\n",
       "</div>"
      ],
      "text/plain": [
       "   No  2001  2002  2003  2004  2005  2006  2007  2008  2009  2010  2011  2012  \\\n",
       "0   1    39    29    46     2    26    27    25    27    46    57    47    42   \n",
       "1   2    46    66    57    43    50    51    39    50    49    49    27    37   \n",
       "2   3    83    79    83    64    75    54    58    53    65    66    44    43   \n",
       "3   4    76    82    76    69    63    74    46    44    73    38    56    44   \n",
       "4   5    31    23    45    80    25    27    25    26    27    26    23    39   \n",
       "\n",
       "   2013  2014  2015  2016  \n",
       "0    54    39    26    27  \n",
       "1    29    33    26    33  \n",
       "2    40    38    41    42  \n",
       "3    45    32    34    31  \n",
       "4    19    20    19    18  "
      ]
     },
     "execution_count": 5,
     "metadata": {},
     "output_type": "execute_result"
    }
   ],
   "source": [
    "#no usa esta csv, es solo para ver cómo deben verse sus datos cuando termine de limpiarlos\n",
    "pd.read_csv('datosLimpios.csv').head()"
   ]
  },
  {
   "cell_type": "code",
   "execution_count": 6,
   "metadata": {
    "collapsed": true
   },
   "outputs": [],
   "source": [
    "# crear un 'DataFrame' objecto desde el json\n",
    "# puedes usar json['result']['records'] para ver la información que queremos\n"
   ]
  },
  {
   "cell_type": "markdown",
   "metadata": {},
   "source": [
    "### Limpiando los datos, necesitas hacer :\n",
    "- establece el indice a 'comuna'\n",
    "- omitir las filas de 'TOTAL' y 'sin especificar'\n",
    "- cambiar columnas para ser el año\n",
    "- cambiar el DataFrame para todo ser numérico\n",
    "- reemplazar los datos faltantes con -1\n",
    "- ordenar el DataFrame"
   ]
  },
  {
   "cell_type": "code",
   "execution_count": 8,
   "metadata": {
    "collapsed": true
   },
   "outputs": [],
   "source": [
    "#LIMPIANDO LOS DATOS\n",
    "#Terminar la función:\n",
    "def limpiarLosDatos(datos):\n",
    "    #establece el indice para ser el numero de comuna\n",
    "    datos.set_index('No', inplace=True)\n",
    "    #omitir filas innecesarias\n",
    "    datosLimpios = datos.loc[[\"1\", \"2\", \"3\", \"4\", \"5\", \"6\", \"7\", \"8\", \"9\", \"10\", \"11\", \"12\", \"13\", \"14\", \"15\", \"16\", \"17\", \"18\", \"19\", \"20\", \"21\", \"22\"]]\n",
    "    #omitir columnas innecesarias\n",
    "    datosLimpios.drop(\"_id\", axis=1, inplace=True)\n",
    "    #cambiar columnas para ser el año\n",
    "\n",
    "    #cambiar los valores de columnas para que sean numéricos (puede usar pd.to_numeric)\n",
    "    \n",
    "    #reemplazar los datos faltantes con -1\n",
    "\n",
    "    #cambiar los valores para que sean numéricos (puede usar pd.to_numeric)\n",
    "\n",
    "    #ordenar el dataframe por año\n",
    "\n",
    "    return datosLimpios"
   ]
  },
  {
   "cell_type": "code",
   "execution_count": 10,
   "metadata": {
    "collapsed": true
   },
   "outputs": [],
   "source": [
    "#usa la función para limpiar los datos\n",
    "#guarda la resulta en un variable\n"
   ]
  },
  {
   "cell_type": "markdown",
   "metadata": {},
   "source": [
    "<hr/>"
   ]
  },
  {
   "cell_type": "markdown",
   "metadata": {},
   "source": [
    "# 3. Visualizar los Datos\n",
    "*(indicio: usa la plot() function para DataFrames en pandas)*"
   ]
  },
  {
   "cell_type": "code",
   "execution_count": 11,
   "metadata": {
    "collapsed": true
   },
   "outputs": [],
   "source": [
    "#con esto, podemos visualizar en el Jupyter notebook\n",
    "%matplotlib inline\n",
    "import matplotlib.pyplot as plt"
   ]
  },
  {
   "cell_type": "code",
   "execution_count": 13,
   "metadata": {},
   "outputs": [
    {
     "data": {
      "text/plain": [
       "<matplotlib.text.Text at 0x11535a438>"
      ]
     },
     "execution_count": 13,
     "metadata": {},
     "output_type": "execute_result"
    },
    {
     "data": {
      "image/png": "[encoded data removed]",
      "text/plain": [
       "<matplotlib.figure.Figure at 0x1152e19e8>"
      ]
     },
     "metadata": {},
     "output_type": "display_data"
    }
   ],
   "source": [
    "#primero, visualiza todos los datos (usa la función .T para transponer los datos para trazarlos correctamente.)\n",
    "\n",
    "#título y nombres de ejes\n",
    "plt.title('Homocidios en Comunas en Cali 2001 - 2016')\n",
    "plt.xlabel('año')\n",
    "plt.ylabel('homocidios')"
   ]
  },
  {
   "cell_type": "code",
   "execution_count": 15,
   "metadata": {
    "collapsed": true
   },
   "outputs": [],
   "source": [
    "#la comuna con mucho mas homocidios de otros es numero 13, lo visualizamos :\n",
    "#tambien, usa la función .T para transponer los datos trazarlos correctamente\n"
   ]
  },
  {
   "cell_type": "markdown",
   "metadata": {},
   "source": [
    "<hr/>"
   ]
  },
  {
   "cell_type": "markdown",
   "metadata": {},
   "source": [
    "# 4. Mapear los Datos\n",
    "\n",
    "Para este conjunto de datos, es bueno visualizar los homicidios a lo largo del tiempo, pero es aún más interesante ver dónde están en un mapa. Ahora usaremos la biblioteca de [geopandas](http://geopandas.org/) para crear un mapa de homicidios de Cali."
   ]
  },
  {
   "cell_type": "code",
   "execution_count": 16,
   "metadata": {
    "collapsed": true
   },
   "outputs": [],
   "source": [
    "import geopandas as gpd\n",
    "caliShapeFileUrl = 'http://ws-idesc.cali.gov.co:8081/geoserver/idesc/ows?service=WFS&version=1.0.0&request=GetFeature&typeName=idesc:mc_comunas&maxFeatures=50&outputFormat=SHAPE-ZIP'"
   ]
  },
  {
   "cell_type": "markdown",
   "metadata": {},
   "source": [
    "** Usa la función [read_file()](http://geopandas.org/io.html) de geopandas para obtener un geoDataFrame con el shapefile de Cali : **"
   ]
  },
  {
   "cell_type": "code",
   "execution_count": 17,
   "metadata": {},
   "outputs": [
    {
     "data": {
      "text/html": [
       "<div>\n",
       "<style>\n",
       "    .dataframe thead tr:only-child th {\n",
       "        text-align: right;\n",
       "    }\n",
       "\n",
       "    .dataframe thead th {\n",
       "        text-align: left;\n",
       "    }\n",
       "\n",
       "    .dataframe tbody tr th {\n",
       "        vertical-align: top;\n",
       "    }\n",
       "</style>\n",
       "<table border=\"1\" class=\"dataframe\">\n",
       "  <thead>\n",
       "    <tr style=\"text-align: right;\">\n",
       "      <th></th>\n",
       "      <th>comuna</th>\n",
       "      <th>nombre</th>\n",
       "      <th>zona_recol</th>\n",
       "      <th>area</th>\n",
       "      <th>perimetro</th>\n",
       "      <th>geometry</th>\n",
       "    </tr>\n",
       "  </thead>\n",
       "  <tbody>\n",
       "    <tr>\n",
       "      <th>0</th>\n",
       "      <td>21</td>\n",
       "      <td>Comuna 21</td>\n",
       "      <td>EMAS</td>\n",
       "      <td>4828926.999</td>\n",
       "      <td>16149.224</td>\n",
       "      <td>POLYGON ((1066474.564146134 872996.1840793319,...</td>\n",
       "    </tr>\n",
       "    <tr>\n",
       "      <th>1</th>\n",
       "      <td>15</td>\n",
       "      <td>Comuna 15</td>\n",
       "      <td>EMAS</td>\n",
       "      <td>4060432.724</td>\n",
       "      <td>10425.092</td>\n",
       "      <td>POLYGON ((1065485.170884323 869864.0966397388,...</td>\n",
       "    </tr>\n",
       "    <tr>\n",
       "      <th>2</th>\n",
       "      <td>20</td>\n",
       "      <td>Comuna 20</td>\n",
       "      <td>CIUDAD LIMPIA</td>\n",
       "      <td>2439498.349</td>\n",
       "      <td>8448.577</td>\n",
       "      <td>POLYGON ((1058422.146283313 870975.0254123217,...</td>\n",
       "    </tr>\n",
       "    <tr>\n",
       "      <th>3</th>\n",
       "      <td>1</td>\n",
       "      <td>Comuna 1</td>\n",
       "      <td>CIUDAD LIMPIA</td>\n",
       "      <td>3842242.577</td>\n",
       "      <td>15518.149</td>\n",
       "      <td>POLYGON ((1054966.676632802 874099.4449846093,...</td>\n",
       "    </tr>\n",
       "    <tr>\n",
       "      <th>4</th>\n",
       "      <td>3</td>\n",
       "      <td>Comuna 3</td>\n",
       "      <td>CIUDAD LIMPIA</td>\n",
       "      <td>3704462.889</td>\n",
       "      <td>11003.318</td>\n",
       "      <td>POLYGON ((1061757.367971685 874615.5337885239,...</td>\n",
       "    </tr>\n",
       "  </tbody>\n",
       "</table>\n",
       "</div>"
      ],
      "text/plain": [
       "   comuna     nombre     zona_recol         area  perimetro  \\\n",
       "0      21  Comuna 21           EMAS  4828926.999  16149.224   \n",
       "1      15  Comuna 15           EMAS  4060432.724  10425.092   \n",
       "2      20  Comuna 20  CIUDAD LIMPIA  2439498.349   8448.577   \n",
       "3       1   Comuna 1  CIUDAD LIMPIA  3842242.577  15518.149   \n",
       "4       3   Comuna 3  CIUDAD LIMPIA  3704462.889  11003.318   \n",
       "\n",
       "                                            geometry  \n",
       "0  POLYGON ((1066474.564146134 872996.1840793319,...  \n",
       "1  POLYGON ((1065485.170884323 869864.0966397388,...  \n",
       "2  POLYGON ((1058422.146283313 870975.0254123217,...  \n",
       "3  POLYGON ((1054966.676632802 874099.4449846093,...  \n",
       "4  POLYGON ((1061757.367971685 874615.5337885239,...  "
      ]
     },
     "execution_count": 17,
     "metadata": {},
     "output_type": "execute_result"
    }
   ],
   "source": [
    "caliShape = gpd.read_file(caliShapeFileUrl)\n",
    "caliShape.head()"
   ]
  },
  {
   "cell_type": "markdown",
   "metadata": {},
   "source": [
    "** Usa la función [plot()](http://geopandas.org/gallery/plotting_with_geoplot.html) de geopandas para ver Cali : **"
   ]
  },
  {
   "cell_type": "code",
   "execution_count": null,
   "metadata": {
    "collapsed": true
   },
   "outputs": [],
   "source": []
  },
  {
   "cell_type": "markdown",
   "metadata": {},
   "source": [
    "### Siguiente\n",
    "*Chevre!* Ahora, tenemos un DataFrame con la información de homocidios por comuna por año en Cali, y también tenemos un DataFrame con las formas de las comunas en Cali en una mapa. Unámoslos para hacer una visual interesante!\n",
    "\n",
    "Vamos a utilizar la función [join()](https://pandas.pydata.org/pandas-docs/version/0.24.2/reference/api/pandas.DataFrame.join.html) de pandas para hacer esto."
   ]
  },
  {
   "cell_type": "markdown",
   "metadata": {},
   "source": [
    "** Primero: restructura el DataFrame de homocidios para ser compatible con los datos de mapa: **\n",
    "- Cambie el nombre de su DataFrame de antes a ser datosLimpios y puede usar el siguiente código para ayudarlo"
   ]
  },
  {
   "cell_type": "code",
   "execution_count": 19,
   "metadata": {},
   "outputs": [
    {
     "ename": "NameError",
     "evalue": "name 'datosLimpios' is not defined",
     "output_type": "error",
     "traceback": [
      "\u001b[0;31m---------------------------------------------------------------------------\u001b[0m",
      "\u001b[0;31mNameError\u001b[0m                                 Traceback (most recent call last)",
      "\u001b[0;32m<ipython-input-19-ac4e75868ce0>\u001b[0m in \u001b[0;36m<module>\u001b[0;34m()\u001b[0m\n\u001b[1;32m      1\u001b[0m \u001b[0;31m#nombreAntes = datosLimpios\u001b[0m\u001b[0;34m\u001b[0m\u001b[0;34m\u001b[0m\u001b[0m\n\u001b[0;32m----> 2\u001b[0;31m \u001b[0mdatosLimpios\u001b[0m\u001b[0;34m.\u001b[0m\u001b[0mreset_index\u001b[0m\u001b[0;34m(\u001b[0m\u001b[0minplace\u001b[0m\u001b[0;34m=\u001b[0m\u001b[0;32mTrue\u001b[0m\u001b[0;34m)\u001b[0m\u001b[0;34m\u001b[0m\u001b[0m\n\u001b[0m\u001b[1;32m      3\u001b[0m \u001b[0mdatosLimpios\u001b[0m \u001b[0;34m=\u001b[0m \u001b[0mdatosLimpios\u001b[0m\u001b[0;34m.\u001b[0m\u001b[0mapply\u001b[0m\u001b[0;34m(\u001b[0m\u001b[0mpd\u001b[0m\u001b[0;34m.\u001b[0m\u001b[0mto_numeric\u001b[0m\u001b[0;34m)\u001b[0m\u001b[0;34m\u001b[0m\u001b[0m\n\u001b[1;32m      4\u001b[0m \u001b[0mdatosLimpios\u001b[0m\u001b[0;34m.\u001b[0m\u001b[0mset_index\u001b[0m\u001b[0;34m(\u001b[0m\u001b[0;34m'No'\u001b[0m\u001b[0;34m)\u001b[0m\u001b[0;34m\u001b[0m\u001b[0m\n\u001b[1;32m      5\u001b[0m \u001b[0mdatosLimpios\u001b[0m\u001b[0;34m.\u001b[0m\u001b[0mindex\u001b[0m\u001b[0;34m.\u001b[0m\u001b[0mnames\u001b[0m\u001b[0;34m=\u001b[0m\u001b[0;34m[\u001b[0m\u001b[0;34m'comuna'\u001b[0m\u001b[0;34m]\u001b[0m\u001b[0;34m\u001b[0m\u001b[0m\n",
      "\u001b[0;31mNameError\u001b[0m: name 'datosLimpios' is not defined"
     ]
    }
   ],
   "source": [
    "#nombreAntes = datosLimpios\n",
    "datosLimpios.reset_index(inplace=True)\n",
    "datosLimpios = datosLimpios.apply(pd.to_numeric)\n",
    "datosLimpios.set_index('No')\n",
    "datosLimpios.index.names=['comuna']\n",
    "datosLimpios.head()"
   ]
  },
  {
   "cell_type": "markdown",
   "metadata": {},
   "source": [
    "** Segundo: resetructura el DataFrame de Cali ShapeFile para tener 'comuna' para el índice **"
   ]
  },
  {
   "cell_type": "code",
   "execution_count": 20,
   "metadata": {
    "collapsed": true
   },
   "outputs": [],
   "source": [
    "#establecer el índice para ser el número de la comuna\n",
    "caliShape.set_index('comuna', inplace=True)"
   ]
  },
  {
   "cell_type": "markdown",
   "metadata": {},
   "source": [
    "** Tercero: Usa la función [join()](https://pandas.pydata.org/pandas-docs/version/0.24.2/reference/api/pandas.DataFrame.join.html) de pandas para fusionar los DataFrames **"
   ]
  },
  {
   "cell_type": "code",
   "execution_count": null,
   "metadata": {
    "collapsed": true
   },
   "outputs": [],
   "source": []
  },
  {
   "cell_type": "code",
   "execution_count": 21,
   "metadata": {
    "collapsed": true
   },
   "outputs": [],
   "source": [
    "#Esta función es para hacer que el mapa se vea bonito\n",
    "def personalizaLaMapa(vmin, vmax):\n",
    "    # quitar el eje\n",
    "    ax.axis('off')\n",
    "\n",
    "    # título\n",
    "    ax.set_title('Número de homicidios en 2001 por distrito en Cali', \\\n",
    "                  fontdict={'fontsize': '25',\n",
    "                            'fontweight' : '3'})\n",
    "\n",
    "    # fuente de los datos\n",
    "    ax.annotate('Source: Datos Abiertos, Alcaldía de Cali',\n",
    "               xy=(0.1, .08), xycoords='figure fraction',\n",
    "               horizontalalignment='left', verticalalignment='top',\n",
    "               fontsize=10, color='#555555')\n",
    "\n",
    "    # Crear una barra de colores como la leyenda del mapa\n",
    "    sm = plt.cm.ScalarMappable(cmap='Blues', norm=plt.Normalize(vmin=vmin, vmax=vmax))\n",
    "    sm._A = []\n",
    "    cbar = fig.colorbar(sm)"
   ]
  },
  {
   "cell_type": "markdown",
   "metadata": {},
   "source": [
    "** Trata de usar la función de [plot()](http://geopandas.org/gallery/plotting_with_geoplot.html) en geopandas para visualiza todos en el mapa de Cali : **\n",
    "- primero, solo por un año\n",
    "- usa la función 'personalizaLaMapa' para hacer que el mapa se vea bonito\n",
    "- despues, guarda la figure en una imagen de png con la función [savefig()](https://matplotlib.org/3.1.1/api/_as_gen/matplotlib.pyplot.savefig.html)"
   ]
  },
  {
   "cell_type": "code",
   "execution_count": 24,
   "metadata": {},
   "outputs": [
    {
     "data": {
      "image/png": "[encoded data removed]",
      "text/plain": [
       "<matplotlib.figure.Figure at 0x11db34e48>"
      ]
     },
     "metadata": {},
     "output_type": "display_data"
    }
   ],
   "source": [
    "#el año (year) que queremos ver\n",
    "year = 2001\n",
    "vmin, vmax = 0, 250\n",
    "\n",
    "#crear una figura en matplotlib\n",
    "fig, ax = plt.subplots(1, figsize=(10, 10))\n",
    "\n",
    "#indicio: termina esto --> plot(column= , cmap='Blues, ax=)\n",
    "\n",
    "# Personalización\n",
    "\n",
    "personalizaLaMapa(vmin, vmax)\n",
    "\n",
    "# esto guardará la figura como un png de alta resolución. También puede guardar como svg\n",
    "# usa la función savefig('nombre.png', dpi=300)\n"
   ]
  },
  {
   "cell_type": "markdown",
   "metadata": {},
   "source": [
    "# Buen Trabajo!\n",
    "\n",
    "Muy genial! Utilizamos datos de la plataforma de [Datos Abiertos, Cali](http://datos.cali.gov.co/) y creamos nuestro propio visual! ¿Qué otros conjuntos de datos geniales podemos utilizar?"
   ]
  },
  {
   "cell_type": "markdown",
   "metadata": {},
   "source": [
    "![Homocidios](https://media.giphy.com/media/fSRR6jTOJggap5KGS9/giphy.gif \"homocidios\")"
   ]
  },
  {
   "cell_type": "markdown",
   "metadata": {},
   "source": [
    "<hr/>"
   ]
  },
  {
   "cell_type": "markdown",
   "metadata": {},
   "source": [
    "## Fin."
   ]
  },
  {
   "cell_type": "markdown",
   "metadata": {},
   "source": [
    "<hr/>"
   ]
  },
  {
   "cell_type": "code",
   "execution_count": null,
   "metadata": {
    "collapsed": true
   },
   "outputs": [],
   "source": []
  }
 ],
 "metadata": {
  "kernelspec": {
   "display_name": "Python 3",
   "language": "python",
   "name": "python3"
  },
  "language_info": {
   "codemirror_mode": {
    "name": "ipython",
    "version": 3
   },
   "file_extension": ".py",
   "mimetype": "text/x-python",
   "name": "python",
   "nbconvert_exporter": "python",
   "pygments_lexer": "ipython3",
   "version": "3.6.1"
  }
 },
 "nbformat": 4,
 "nbformat_minor": 2
}
