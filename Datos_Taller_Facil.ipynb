{
 "cells": [
  {
   "cell_type": "markdown",
   "metadata": {},
   "source": [
    "# Taller de Datos Abiertos\n",
    "\n",
    "**Nivel : Facil**\n",
    "\n",
    "Este Jupyter Notebook es para aprender conceptos básicos de la ciencia de datos utilizando la plataforma Datos Abiertos de Cali, Colombia. En este libro aprenderá cómo:\n",
    "- Recopilar datos de una API\n",
    "- Datos limpios\n",
    "- Visualizar y trazar datos\n",
    "- Crea un visual genial de datos"
   ]
  },
  {
   "cell_type": "markdown",
   "metadata": {},
   "source": [
    "<hr/>"
   ]
  },
  {
   "cell_type": "markdown",
   "metadata": {},
   "source": [
    "# 1. Obtener Los Datos\n",
    "\n",
    "\n",
    "- Queremos este conjunto de datos : [Homicidios comunes en el Municipio de Santiago de Cali](http://datos.cali.gov.co/dataset/homicidios-comunes-en-el-municipio-de-santiago-de-cali-segun-comuna-del-hecho-2001-2017/resource/670f2cd8-3b5f-4657-a136-577afefc38be)\n",
    "\n",
    "- Podemos usar la **API** para recopilar los datos. El *API Endpoint* es esto:\n",
    "\n",
    "http://datos.cali.gov.co/en/api/3/action/datastore_search?resource_id=670f2cd8-3b5f-4657-a136-577afefc38be"
   ]
  },
  {
   "cell_type": "code",
   "execution_count": 1,
   "metadata": {
    "collapsed": true
   },
   "outputs": [],
   "source": [
    "#Library para usar APIs\n",
    "import requests\n",
    "import json\n",
    "#API Endpoint (de la plataforma de Datos Abiertos)\n",
    "url = 'http://datos.cali.gov.co/en/api/3/action/datastore_search?resource_id=670f2cd8-3b5f-4657-a136-577afefc38be'"
   ]
  },
  {
   "cell_type": "markdown",
   "metadata": {},
   "source": [
    "### Usa la API y obtén una respuesta en json\n",
    "(indicio: mira el documentación de <a href='https://realpython.com/python-requests'>requests</a>)"
   ]
  },
  {
   "cell_type": "code",
   "execution_count": 2,
   "metadata": {
    "collapsed": true
   },
   "outputs": [],
   "source": [
    "#usa la api y obtén una respuesta\n",
    "response = requests.request(\"GET\", url)\n",
    "#cambiar la respuesta en un objeto json\n",
    "respjson = response.json()"
   ]
  },
  {
   "cell_type": "code",
   "execution_count": 3,
   "metadata": {},
   "outputs": [
    {
     "data": {
      "text/plain": [
       "{'help': 'http://datos.cali.gov.co/en/api/3/action/help_show?name=datastore_search',\n",
       " 'result': {'_links': {'next': '/api/3/action/datastore_search?offset=100&resource_id=670f2cd8-3b5f-4657-a136-577afefc38be',\n",
       "   'start': '/api/3/action/datastore_search?resource_id=670f2cd8-3b5f-4657-a136-577afefc38be'},\n",
       "  'fields': [{'id': '_id', 'type': 'int'},\n",
       "   {'id': 'No', 'type': 'text'},\n",
       "   {'id': '1', 'type': 'text'},\n",
       "   {'id': '2', 'type': 'text'},\n",
       "   {'id': '3', 'type': 'text'},\n",
       "   {'id': '4', 'type': 'text'},\n",
       "   {'id': '5', 'type': 'text'},\n",
       "   {'id': '6', 'type': 'text'},\n",
       "   {'id': '7', 'type': 'text'},\n",
       "   {'id': '8', 'type': 'text'},\n",
       "   {'id': '9', 'type': 'numeric'},\n",
       "   {'id': '10', 'type': 'numeric'},\n",
       "   {'id': '11', 'type': 'numeric'},\n",
       "   {'id': '12', 'type': 'numeric'},\n",
       "   {'id': '13', 'type': 'numeric'},\n",
       "   {'id': '14', 'type': 'numeric'},\n",
       "   {'id': '15', 'type': 'numeric'},\n",
       "   {'id': '16', 'type': 'text'}],\n",
       "  'include_total': True,\n",
       "  'records': [{'1': '2001',\n",
       "    '10': 2010,\n",
       "    '11': 2011,\n",
       "    '12': 2012,\n",
       "    '13': 2013,\n",
       "    '14': 2014,\n",
       "    '15': 2015,\n",
       "    '16': '2016',\n",
       "    '2': '2002',\n",
       "    '3': '2003',\n",
       "    '4': '2004',\n",
       "    '5': '2005',\n",
       "    '6': '2006',\n",
       "    '7': '2007',\n",
       "    '8': '2008',\n",
       "    '9': 2009,\n",
       "    'No': 'Comuna',\n",
       "    '_id': 1},\n",
       "   {'1': '39',\n",
       "    '10': 57,\n",
       "    '11': 47,\n",
       "    '12': 42,\n",
       "    '13': 54,\n",
       "    '14': 39,\n",
       "    '15': 26,\n",
       "    '16': '27',\n",
       "    '2': '29',\n",
       "    '3': '46',\n",
       "    '4': '2',\n",
       "    '5': '26',\n",
       "    '6': '27',\n",
       "    '7': '25',\n",
       "    '8': '27',\n",
       "    '9': 46,\n",
       "    'No': '1',\n",
       "    '_id': 2},\n",
       "   {'1': '2051',\n",
       "    '10': 1825,\n",
       "    '11': 1845,\n",
       "    '12': 1839,\n",
       "    '13': 1954,\n",
       "    '14': 1560,\n",
       "    '15': 1373,\n",
       "    '16': '1297',\n",
       "    '2': '2015',\n",
       "    '3': '2108',\n",
       "    '4': '2161',\n",
       "    '5': '1593',\n",
       "    '6': '1538',\n",
       "    '7': '1515',\n",
       "    '8': '1465',\n",
       "    '9': 1794,\n",
       "    'No': 'TOTAL',\n",
       "    '_id': 3},\n",
       "   {'1': '46',\n",
       "    '10': 49,\n",
       "    '11': 27,\n",
       "    '12': 37,\n",
       "    '13': 29,\n",
       "    '14': 33,\n",
       "    '15': 26,\n",
       "    '16': '33',\n",
       "    '2': '66',\n",
       "    '3': '57',\n",
       "    '4': '43',\n",
       "    '5': '50',\n",
       "    '6': '51',\n",
       "    '7': '39',\n",
       "    '8': '50',\n",
       "    '9': 49,\n",
       "    'No': '2',\n",
       "    '_id': 4},\n",
       "   {'1': '83',\n",
       "    '10': 66,\n",
       "    '11': 44,\n",
       "    '12': 43,\n",
       "    '13': 40,\n",
       "    '14': 38,\n",
       "    '15': 41,\n",
       "    '16': '42',\n",
       "    '2': '79',\n",
       "    '3': '83',\n",
       "    '4': '64',\n",
       "    '5': '75',\n",
       "    '6': '54',\n",
       "    '7': '58',\n",
       "    '8': '53',\n",
       "    '9': 65,\n",
       "    'No': '3',\n",
       "    '_id': 5},\n",
       "   {'1': '76',\n",
       "    '10': 38,\n",
       "    '11': 56,\n",
       "    '12': 44,\n",
       "    '13': 45,\n",
       "    '14': 32,\n",
       "    '15': 34,\n",
       "    '16': '31',\n",
       "    '2': '82',\n",
       "    '3': '76',\n",
       "    '4': '69',\n",
       "    '5': '63',\n",
       "    '6': '74',\n",
       "    '7': '46',\n",
       "    '8': '44',\n",
       "    '9': 73,\n",
       "    'No': '4',\n",
       "    '_id': 6},\n",
       "   {'1': '31',\n",
       "    '10': 26,\n",
       "    '11': 23,\n",
       "    '12': 39,\n",
       "    '13': 19,\n",
       "    '14': 20,\n",
       "    '15': 19,\n",
       "    '16': '18',\n",
       "    '2': '23',\n",
       "    '3': '45',\n",
       "    '4': '80',\n",
       "    '5': '25',\n",
       "    '6': '27',\n",
       "    '7': '25',\n",
       "    '8': '26',\n",
       "    '9': 27,\n",
       "    'No': '5',\n",
       "    '_id': 7},\n",
       "   {'1': '91',\n",
       "    '10': 128,\n",
       "    '11': 108,\n",
       "    '12': 117,\n",
       "    '13': 160,\n",
       "    '14': 89,\n",
       "    '15': 73,\n",
       "    '16': '70',\n",
       "    '2': '114',\n",
       "    '3': '108',\n",
       "    '4': '53',\n",
       "    '5': '77',\n",
       "    '6': '63',\n",
       "    '7': '73',\n",
       "    '8': '68',\n",
       "    '9': 127,\n",
       "    'No': '6',\n",
       "    '_id': 8},\n",
       "   {'1': '67',\n",
       "    '10': 70,\n",
       "    '11': 47,\n",
       "    '12': 62,\n",
       "    '13': 60,\n",
       "    '14': 52,\n",
       "    '15': 40,\n",
       "    '16': '44',\n",
       "    '2': '118',\n",
       "    '3': '104',\n",
       "    '4': '115',\n",
       "    '5': '110',\n",
       "    '6': '86',\n",
       "    '7': '55',\n",
       "    '8': '42',\n",
       "    '9': 51,\n",
       "    'No': '7',\n",
       "    '_id': 9},\n",
       "   {'1': '127',\n",
       "    '10': 55,\n",
       "    '11': 64,\n",
       "    '12': 88,\n",
       "    '13': 60,\n",
       "    '14': 45,\n",
       "    '15': 57,\n",
       "    '16': '48',\n",
       "    '2': '119',\n",
       "    '3': '101',\n",
       "    '4': '125',\n",
       "    '5': '92',\n",
       "    '6': '83',\n",
       "    '7': '70',\n",
       "    '8': '58',\n",
       "    '9': 69,\n",
       "    'No': '8',\n",
       "    '_id': 10},\n",
       "   {'1': '87',\n",
       "    '10': 50,\n",
       "    '11': 65,\n",
       "    '12': 45,\n",
       "    '13': 59,\n",
       "    '14': 62,\n",
       "    '15': 48,\n",
       "    '16': '46',\n",
       "    '2': '89',\n",
       "    '3': '111',\n",
       "    '4': '127',\n",
       "    '5': '86',\n",
       "    '6': '67',\n",
       "    '7': '62',\n",
       "    '8': '51',\n",
       "    '9': 60,\n",
       "    'No': '9',\n",
       "    '_id': 11},\n",
       "   {'1': '111',\n",
       "    '10': 67,\n",
       "    '11': 72,\n",
       "    '12': 60,\n",
       "    '13': 65,\n",
       "    '14': 50,\n",
       "    '15': 35,\n",
       "    '16': '39',\n",
       "    '2': '111',\n",
       "    '3': '140',\n",
       "    '4': '97',\n",
       "    '5': '82',\n",
       "    '6': '58',\n",
       "    '7': '58',\n",
       "    '8': '44',\n",
       "    '9': 64,\n",
       "    'No': '10',\n",
       "    '_id': 12},\n",
       "   {'1': '84',\n",
       "    '10': 95,\n",
       "    '11': 78,\n",
       "    '12': 58,\n",
       "    '13': 81,\n",
       "    '14': 36,\n",
       "    '15': 42,\n",
       "    '16': '54',\n",
       "    '2': '83',\n",
       "    '3': '74',\n",
       "    '4': '122',\n",
       "    '5': '74',\n",
       "    '6': '55',\n",
       "    '7': '87',\n",
       "    '8': '64',\n",
       "    '9': 88,\n",
       "    'No': '11',\n",
       "    '_id': 13},\n",
       "   {'1': '65',\n",
       "    '10': 78,\n",
       "    '11': 80,\n",
       "    '12': 89,\n",
       "    '13': 72,\n",
       "    '14': 60,\n",
       "    '15': 60,\n",
       "    '16': '48',\n",
       "    '2': '83',\n",
       "    '3': '59',\n",
       "    '4': '56',\n",
       "    '5': '50',\n",
       "    '6': '72',\n",
       "    '7': '50',\n",
       "    '8': '63',\n",
       "    '9': 51,\n",
       "    'No': '18',\n",
       "    '_id': 14},\n",
       "   {'1': '86',\n",
       "    '10': 70,\n",
       "    '11': 81,\n",
       "    '12': 81,\n",
       "    '13': 101,\n",
       "    '14': 43,\n",
       "    '15': 60,\n",
       "    '16': '38',\n",
       "    '2': '70',\n",
       "    '3': '111',\n",
       "    '4': '111',\n",
       "    '5': '59',\n",
       "    '6': '58',\n",
       "    '7': '67',\n",
       "    '8': '71',\n",
       "    '9': 55,\n",
       "    'No': '12',\n",
       "    '_id': 15},\n",
       "   {'1': '194',\n",
       "    '10': 237,\n",
       "    '11': 194,\n",
       "    '12': 191,\n",
       "    '13': 215,\n",
       "    '14': 172,\n",
       "    '15': 122,\n",
       "    '16': '143',\n",
       "    '2': '175',\n",
       "    '3': '186',\n",
       "    '4': '108',\n",
       "    '5': '127',\n",
       "    '6': '174',\n",
       "    '7': '183',\n",
       "    '8': '176',\n",
       "    '9': 201,\n",
       "    'No': '13',\n",
       "    '_id': 16},\n",
       "   {'1': '163',\n",
       "    '10': 159,\n",
       "    '11': 172,\n",
       "    '12': 183,\n",
       "    '13': 208,\n",
       "    '14': 188,\n",
       "    '15': 157,\n",
       "    '16': '134',\n",
       "    '2': '134',\n",
       "    '3': '181',\n",
       "    '4': '198',\n",
       "    '5': '103',\n",
       "    '6': '139',\n",
       "    '7': '137',\n",
       "    '8': '138',\n",
       "    '9': 187,\n",
       "    'No': '14',\n",
       "    '_id': 17},\n",
       "   {'1': '176',\n",
       "    '10': 167,\n",
       "    '11': 188,\n",
       "    '12': 177,\n",
       "    '13': 198,\n",
       "    '14': 142,\n",
       "    '15': 159,\n",
       "    '16': '154',\n",
       "    '2': '152',\n",
       "    '3': '161',\n",
       "    '4': '148',\n",
       "    '5': '109',\n",
       "    '6': '121',\n",
       "    '7': '121',\n",
       "    '8': '132',\n",
       "    '9': 171,\n",
       "    'No': '15',\n",
       "    '_id': 18},\n",
       "   {'1': '83',\n",
       "    '10': 68,\n",
       "    '11': 105,\n",
       "    '12': 100,\n",
       "    '13': 99,\n",
       "    '14': 89,\n",
       "    '15': 49,\n",
       "    '16': '46',\n",
       "    '2': '81',\n",
       "    '3': '90',\n",
       "    '4': '175',\n",
       "    '5': '58',\n",
       "    '6': '61',\n",
       "    '7': '89',\n",
       "    '8': '85',\n",
       "    '9': 78,\n",
       "    'No': '16',\n",
       "    '_id': 19},\n",
       "   {'1': '63',\n",
       "    '10': 39,\n",
       "    '11': 56,\n",
       "    '12': 57,\n",
       "    '13': 46,\n",
       "    '14': 25,\n",
       "    '15': 33,\n",
       "    '16': '32',\n",
       "    '2': '65',\n",
       "    '3': '37',\n",
       "    '4': '139',\n",
       "    '5': '37',\n",
       "    '6': '30',\n",
       "    '7': '36',\n",
       "    '8': '24',\n",
       "    '9': 40,\n",
       "    'No': '17',\n",
       "    '_id': 20},\n",
       "   {'1': '78',\n",
       "    '10': 46,\n",
       "    '11': 58,\n",
       "    '12': 40,\n",
       "    '13': 30,\n",
       "    '14': 40,\n",
       "    '15': 27,\n",
       "    '16': '20',\n",
       "    '2': '58',\n",
       "    '3': '52',\n",
       "    '4': '51',\n",
       "    '5': '60',\n",
       "    '6': '42',\n",
       "    '7': '46',\n",
       "    '8': '51',\n",
       "    '9': 50,\n",
       "    'No': '19',\n",
       "    '_id': 21},\n",
       "   {'1': '151',\n",
       "    '10': 90,\n",
       "    '11': 116,\n",
       "    '12': 106,\n",
       "    '13': 128,\n",
       "    '14': 124,\n",
       "    '15': 118,\n",
       "    '16': '84',\n",
       "    '2': '121',\n",
       "    '3': '144',\n",
       "    '4': '64',\n",
       "    '5': '87',\n",
       "    '6': '65',\n",
       "    '7': '63',\n",
       "    '8': '80',\n",
       "    '9': 95,\n",
       "    'No': '20',\n",
       "    '_id': 22},\n",
       "   {'1': '41',\n",
       "    '10': 130,\n",
       "    '11': 93,\n",
       "    '12': 122,\n",
       "    '13': 126,\n",
       "    '14': 126,\n",
       "    '15': 108,\n",
       "    '16': '110',\n",
       "    '2': '48',\n",
       "    '3': '79',\n",
       "    '4': '116',\n",
       "    '5': '63',\n",
       "    '6': '71',\n",
       "    '7': '65',\n",
       "    '8': '72',\n",
       "    '9': 87,\n",
       "    'No': '21',\n",
       "    '_id': 23},\n",
       "   {'1': '-',\n",
       "    '10': 13,\n",
       "    '11': 5,\n",
       "    '12': 10,\n",
       "    '13': 8,\n",
       "    '14': 13,\n",
       "    '15': 4,\n",
       "    '16': '2',\n",
       "    '2': '-',\n",
       "    '3': '-',\n",
       "    '4': '-',\n",
       "    '5': '8',\n",
       "    '6': '14',\n",
       "    '7': '11',\n",
       "    '8': '5',\n",
       "    '9': 13,\n",
       "    'No': '22',\n",
       "    '_id': 24},\n",
       "   {'1': '77',\n",
       "    '10': 22,\n",
       "    '11': 40,\n",
       "    '12': 29,\n",
       "    '13': 41,\n",
       "    '14': 40,\n",
       "    '15': 34,\n",
       "    '16': '34',\n",
       "    '2': '77',\n",
       "    '3': '45',\n",
       "    '4': '98',\n",
       "    '5': '72',\n",
       "    '6': '46',\n",
       "    '7': '49',\n",
       "    '8': '41',\n",
       "    '9': 40,\n",
       "    'No': 'Rural',\n",
       "    '_id': 25},\n",
       "   {'1': '32',\n",
       "    '10': 5,\n",
       "    '11': 26,\n",
       "    '12': 19,\n",
       "    '13': 10,\n",
       "    '14': 2,\n",
       "    '15': 1,\n",
       "    '16': '-',\n",
       "    '2': '38',\n",
       "    '3': '18',\n",
       "    '4': '-',\n",
       "    '5': '-',\n",
       "    '6': '-',\n",
       "    '7': '-',\n",
       "    '8': '-',\n",
       "    '9': 7,\n",
       "    'No': 'Sin especificar',\n",
       "    '_id': 26}],\n",
       "  'records_format': 'objects',\n",
       "  'resource_id': '670f2cd8-3b5f-4657-a136-577afefc38be',\n",
       "  'sort': '_id asc',\n",
       "  'total': 26},\n",
       " 'success': True}"
      ]
     },
     "execution_count": 3,
     "metadata": {},
     "output_type": "execute_result"
    }
   ],
   "source": [
    "#mira el objecto json\n",
    "respjson"
   ]
  },
  {
   "cell_type": "markdown",
   "metadata": {},
   "source": [
    "<hr/>"
   ]
  },
  {
   "cell_type": "markdown",
   "metadata": {},
   "source": [
    "# 2. Limpiar Los Datos"
   ]
  },
  {
   "cell_type": "code",
   "execution_count": 4,
   "metadata": {
    "collapsed": true
   },
   "outputs": [],
   "source": [
    "import pandas as pd"
   ]
  },
  {
   "cell_type": "markdown",
   "metadata": {},
   "source": [
    "### Crear un DataFrame con el objecto de json y limpialo\n",
    "\n",
    "- **Usa la <a href='https://pandas.pydata.org/pandas-docs/stable/reference/api/pandas.DataFrame.html'>library para dataframes con pandas</a>**\n",
    "\n",
    "- En el fin, el DataFrame debería verse así :"
   ]
  },
  {
   "cell_type": "code",
   "execution_count": 5,
   "metadata": {},
   "outputs": [
    {
     "data": {
      "text/html": [
       "<div>\n",
       "<style>\n",
       "    .dataframe thead tr:only-child th {\n",
       "        text-align: right;\n",
       "    }\n",
       "\n",
       "    .dataframe thead th {\n",
       "        text-align: left;\n",
       "    }\n",
       "\n",
       "    .dataframe tbody tr th {\n",
       "        vertical-align: top;\n",
       "    }\n",
       "</style>\n",
       "<table border=\"1\" class=\"dataframe\">\n",
       "  <thead>\n",
       "    <tr style=\"text-align: right;\">\n",
       "      <th></th>\n",
       "      <th>No</th>\n",
       "      <th>2001</th>\n",
       "      <th>2002</th>\n",
       "      <th>2003</th>\n",
       "      <th>2004</th>\n",
       "      <th>2005</th>\n",
       "      <th>2006</th>\n",
       "      <th>2007</th>\n",
       "      <th>2008</th>\n",
       "      <th>2009</th>\n",
       "      <th>2010</th>\n",
       "      <th>2011</th>\n",
       "      <th>2012</th>\n",
       "      <th>2013</th>\n",
       "      <th>2014</th>\n",
       "      <th>2015</th>\n",
       "      <th>2016</th>\n",
       "    </tr>\n",
       "  </thead>\n",
       "  <tbody>\n",
       "    <tr>\n",
       "      <th>0</th>\n",
       "      <td>1</td>\n",
       "      <td>39</td>\n",
       "      <td>29</td>\n",
       "      <td>46</td>\n",
       "      <td>2</td>\n",
       "      <td>26</td>\n",
       "      <td>27</td>\n",
       "      <td>25</td>\n",
       "      <td>27</td>\n",
       "      <td>46</td>\n",
       "      <td>57</td>\n",
       "      <td>47</td>\n",
       "      <td>42</td>\n",
       "      <td>54</td>\n",
       "      <td>39</td>\n",
       "      <td>26</td>\n",
       "      <td>27</td>\n",
       "    </tr>\n",
       "    <tr>\n",
       "      <th>1</th>\n",
       "      <td>2</td>\n",
       "      <td>46</td>\n",
       "      <td>66</td>\n",
       "      <td>57</td>\n",
       "      <td>43</td>\n",
       "      <td>50</td>\n",
       "      <td>51</td>\n",
       "      <td>39</td>\n",
       "      <td>50</td>\n",
       "      <td>49</td>\n",
       "      <td>49</td>\n",
       "      <td>27</td>\n",
       "      <td>37</td>\n",
       "      <td>29</td>\n",
       "      <td>33</td>\n",
       "      <td>26</td>\n",
       "      <td>33</td>\n",
       "    </tr>\n",
       "    <tr>\n",
       "      <th>2</th>\n",
       "      <td>3</td>\n",
       "      <td>83</td>\n",
       "      <td>79</td>\n",
       "      <td>83</td>\n",
       "      <td>64</td>\n",
       "      <td>75</td>\n",
       "      <td>54</td>\n",
       "      <td>58</td>\n",
       "      <td>53</td>\n",
       "      <td>65</td>\n",
       "      <td>66</td>\n",
       "      <td>44</td>\n",
       "      <td>43</td>\n",
       "      <td>40</td>\n",
       "      <td>38</td>\n",
       "      <td>41</td>\n",
       "      <td>42</td>\n",
       "    </tr>\n",
       "    <tr>\n",
       "      <th>3</th>\n",
       "      <td>4</td>\n",
       "      <td>76</td>\n",
       "      <td>82</td>\n",
       "      <td>76</td>\n",
       "      <td>69</td>\n",
       "      <td>63</td>\n",
       "      <td>74</td>\n",
       "      <td>46</td>\n",
       "      <td>44</td>\n",
       "      <td>73</td>\n",
       "      <td>38</td>\n",
       "      <td>56</td>\n",
       "      <td>44</td>\n",
       "      <td>45</td>\n",
       "      <td>32</td>\n",
       "      <td>34</td>\n",
       "      <td>31</td>\n",
       "    </tr>\n",
       "    <tr>\n",
       "      <th>4</th>\n",
       "      <td>5</td>\n",
       "      <td>31</td>\n",
       "      <td>23</td>\n",
       "      <td>45</td>\n",
       "      <td>80</td>\n",
       "      <td>25</td>\n",
       "      <td>27</td>\n",
       "      <td>25</td>\n",
       "      <td>26</td>\n",
       "      <td>27</td>\n",
       "      <td>26</td>\n",
       "      <td>23</td>\n",
       "      <td>39</td>\n",
       "      <td>19</td>\n",
       "      <td>20</td>\n",
       "      <td>19</td>\n",
       "      <td>18</td>\n",
       "    </tr>\n",
       "  </tbody>\n",
       "</table>\n",
       "</div>"
      ],
      "text/plain": [
       "   No  2001  2002  2003  2004  2005  2006  2007  2008  2009  2010  2011  2012  \\\n",
       "0   1    39    29    46     2    26    27    25    27    46    57    47    42   \n",
       "1   2    46    66    57    43    50    51    39    50    49    49    27    37   \n",
       "2   3    83    79    83    64    75    54    58    53    65    66    44    43   \n",
       "3   4    76    82    76    69    63    74    46    44    73    38    56    44   \n",
       "4   5    31    23    45    80    25    27    25    26    27    26    23    39   \n",
       "\n",
       "   2013  2014  2015  2016  \n",
       "0    54    39    26    27  \n",
       "1    29    33    26    33  \n",
       "2    40    38    41    42  \n",
       "3    45    32    34    31  \n",
       "4    19    20    19    18  "
      ]
     },
     "execution_count": 5,
     "metadata": {},
     "output_type": "execute_result"
    }
   ],
   "source": [
    "#no usa esta csv, es solo para ver cómo deben verse sus datos cuando termine de limpiarlos\n",
    "pd.read_csv('datosLimpios.csv').head()"
   ]
  },
  {
   "cell_type": "code",
   "execution_count": 3,
   "metadata": {},
   "outputs": [],
   "source": [
    "# crear un 'DataFrame' objecto desde el json con la función pd.DataFrame(jsonObjeto)\n",
    "# puedes usar respjson['result']['records'] para ver la información que queremos\n"
   ]
  },
  {
   "cell_type": "markdown",
   "metadata": {},
   "source": [
    "### Limpiando los datos, necesitas hacer :\n",
    "- Utilice esta función para limpiar el DataFrame\n",
    "- Mira el DataFrame con la función DataFrame.head()"
   ]
  },
  {
   "cell_type": "code",
   "execution_count": 4,
   "metadata": {
    "collapsed": true
   },
   "outputs": [],
   "source": [
    "#LIMPIANDO LOS DATOS\n",
    "def limpiarLosDatos(datos):\n",
    "    #establece el indice para ser el numero de comuna\n",
    "    datos.set_index('No', inplace=True)\n",
    "    #omitir filas innecesarias\n",
    "    datosLimpios = datos.loc[[\"1\", \"2\", \"3\", \"4\", \"5\", \"6\", \"7\", \"8\", \"9\", \"10\", \"11\", \"12\", \"13\", \"14\", \"15\", \"16\", \"17\", \"18\", \"19\", \"20\", \"21\", \"22\"]]\n",
    "    #omitir columnas innecesarias\n",
    "    datosLimpios.drop(\"_id\", axis=1, inplace=True)\n",
    "    #cambiar columnas para ser el año\n",
    "    datosLimpios.columns = datos.loc['Comuna'][:16]\n",
    "    #cambiar los valores de columnas para que sean numéricos\n",
    "    datosLimpios.columns = pd.to_numeric(datosLimpios.columns.values)\n",
    "    #reemplazar los datos faltantes con -1\n",
    "    datosLimpios = datosLimpios.replace('-', -1)\n",
    "    #cambiar los valores para que sean numéricos\n",
    "    datosLimpios = datosLimpios.apply(pd.to_numeric)\n",
    "    #ordenar el dataframe por año\n",
    "    datosLimpios = datosLimpios.sort_index(axis=1)\n",
    "    return datosLimpios"
   ]
  },
  {
   "cell_type": "code",
   "execution_count": 12,
   "metadata": {},
   "outputs": [
    {
     "ename": "SyntaxError",
     "evalue": "invalid syntax (<ipython-input-12-8dcc462e376c>, line 2)",
     "output_type": "error",
     "traceback": [
      "\u001b[0;36m  File \u001b[0;32m\"<ipython-input-12-8dcc462e376c>\"\u001b[0;36m, line \u001b[0;32m2\u001b[0m\n\u001b[0;31m    datosLimpios = #tu código aquí\u001b[0m\n\u001b[0m                                  ^\u001b[0m\n\u001b[0;31mSyntaxError\u001b[0m\u001b[0;31m:\u001b[0m invalid syntax\n"
     ]
    }
   ],
   "source": [
    "#usa la función limpiarLosDatos(tuDatos)\n",
    "datosLimpios = #tu código aquí\n",
    "#mira el DataFrame con la función datosLimpios.head()\n"
   ]
  },
  {
   "cell_type": "markdown",
   "metadata": {},
   "source": [
    "<hr/>"
   ]
  },
  {
   "cell_type": "markdown",
   "metadata": {},
   "source": [
    "# 3. Visualizar los Datos\n",
    "*(indicio: usa la plot() function para DataFrames en pandas)*"
   ]
  },
  {
   "cell_type": "code",
   "execution_count": 13,
   "metadata": {
    "collapsed": true
   },
   "outputs": [],
   "source": [
    "#con esto, podemos visualizar en el Jupyter notebook\n",
    "%matplotlib inline\n",
    "import matplotlib.pyplot as plt"
   ]
  },
  {
   "cell_type": "code",
   "execution_count": 14,
   "metadata": {},
   "outputs": [
    {
     "ename": "NameError",
     "evalue": "name 'datosLimpios' is not defined",
     "output_type": "error",
     "traceback": [
      "\u001b[0;31m---------------------------------------------------------------------------\u001b[0m",
      "\u001b[0;31mNameError\u001b[0m                                 Traceback (most recent call last)",
      "\u001b[0;32m<ipython-input-14-6f196798c91f>\u001b[0m in \u001b[0;36m<module>\u001b[0;34m()\u001b[0m\n\u001b[1;32m      1\u001b[0m \u001b[0;31m#primero, visualiza todos los datos\u001b[0m\u001b[0;34m\u001b[0m\u001b[0;34m\u001b[0m\u001b[0m\n\u001b[0;32m----> 2\u001b[0;31m \u001b[0mdatosLimpios\u001b[0m\u001b[0;34m.\u001b[0m\u001b[0mT\u001b[0m\u001b[0;34m.\u001b[0m\u001b[0mplot\u001b[0m\u001b[0;34m(\u001b[0m\u001b[0;34m)\u001b[0m\u001b[0;34m\u001b[0m\u001b[0m\n\u001b[0m\u001b[1;32m      3\u001b[0m \u001b[0;31m#título y nombres de ejes\u001b[0m\u001b[0;34m\u001b[0m\u001b[0;34m\u001b[0m\u001b[0m\n\u001b[1;32m      4\u001b[0m \u001b[0mplt\u001b[0m\u001b[0;34m.\u001b[0m\u001b[0mtitle\u001b[0m\u001b[0;34m(\u001b[0m\u001b[0;34m'Homocidios en Comunas en Cali 2001 - 2016'\u001b[0m\u001b[0;34m)\u001b[0m\u001b[0;34m\u001b[0m\u001b[0m\n\u001b[1;32m      5\u001b[0m \u001b[0mplt\u001b[0m\u001b[0;34m.\u001b[0m\u001b[0mxlabel\u001b[0m\u001b[0;34m(\u001b[0m\u001b[0;34m'año'\u001b[0m\u001b[0;34m)\u001b[0m\u001b[0;34m\u001b[0m\u001b[0m\n",
      "\u001b[0;31mNameError\u001b[0m: name 'datosLimpios' is not defined"
     ]
    }
   ],
   "source": [
    "#primero, visualiza todos los datos\n",
    "datosLimpios.T.plot()\n",
    "#título y nombres de ejes\n",
    "plt.title('Homocidios en Comunas en Cali 2001 - 2016')\n",
    "plt.xlabel('año')\n",
    "plt.ylabel('homocidios')"
   ]
  },
  {
   "cell_type": "code",
   "execution_count": 15,
   "metadata": {},
   "outputs": [],
   "source": [
    "#la comuna con mucho mas homocidios de otros es numero 13, lo visualizamos solo comuna 13:\n",
    "#puedes ussar la función iloc[[13]] para ver comuna 13\n"
   ]
  },
  {
   "cell_type": "markdown",
   "metadata": {},
   "source": [
    "<hr/>"
   ]
  },
  {
   "cell_type": "markdown",
   "metadata": {},
   "source": [
    "# 4. Mapear los Datos\n",
    "\n",
    "Para este conjunto de datos, es bueno visualizar los homicidios a lo largo del tiempo, pero es aún más interesante ver dónde están en un mapa. Ahora usaremos la biblioteca de [geopandas](http://geopandas.org/) para crear un mapa de homicidios de Cali."
   ]
  },
  {
   "cell_type": "code",
   "execution_count": 18,
   "metadata": {
    "collapsed": true
   },
   "outputs": [],
   "source": [
    "import geopandas as gpd\n",
    "caliShapeFileUrl = 'http://ws-idesc.cali.gov.co:8081/geoserver/idesc/ows?service=WFS&version=1.0.0&request=GetFeature&typeName=idesc:mc_comunas&maxFeatures=50&outputFormat=SHAPE-ZIP'"
   ]
  },
  {
   "cell_type": "markdown",
   "metadata": {},
   "source": [
    "** Usa la función [read_file()](http://geopandas.org/io.html) de geopandas para obtener un geoDataFrame con el shapefile de Cali : **"
   ]
  },
  {
   "cell_type": "code",
   "execution_count": 19,
   "metadata": {},
   "outputs": [
    {
     "data": {
      "text/html": [
       "<div>\n",
       "<style>\n",
       "    .dataframe thead tr:only-child th {\n",
       "        text-align: right;\n",
       "    }\n",
       "\n",
       "    .dataframe thead th {\n",
       "        text-align: left;\n",
       "    }\n",
       "\n",
       "    .dataframe tbody tr th {\n",
       "        vertical-align: top;\n",
       "    }\n",
       "</style>\n",
       "<table border=\"1\" class=\"dataframe\">\n",
       "  <thead>\n",
       "    <tr style=\"text-align: right;\">\n",
       "      <th></th>\n",
       "      <th>comuna</th>\n",
       "      <th>nombre</th>\n",
       "      <th>zona_recol</th>\n",
       "      <th>area</th>\n",
       "      <th>perimetro</th>\n",
       "      <th>geometry</th>\n",
       "    </tr>\n",
       "  </thead>\n",
       "  <tbody>\n",
       "    <tr>\n",
       "      <th>0</th>\n",
       "      <td>21</td>\n",
       "      <td>Comuna 21</td>\n",
       "      <td>EMAS</td>\n",
       "      <td>4828926.999</td>\n",
       "      <td>16149.224</td>\n",
       "      <td>POLYGON ((1066474.564146134 872996.1840793319,...</td>\n",
       "    </tr>\n",
       "    <tr>\n",
       "      <th>1</th>\n",
       "      <td>15</td>\n",
       "      <td>Comuna 15</td>\n",
       "      <td>EMAS</td>\n",
       "      <td>4060432.724</td>\n",
       "      <td>10425.092</td>\n",
       "      <td>POLYGON ((1065485.170884323 869864.0966397388,...</td>\n",
       "    </tr>\n",
       "    <tr>\n",
       "      <th>2</th>\n",
       "      <td>20</td>\n",
       "      <td>Comuna 20</td>\n",
       "      <td>CIUDAD LIMPIA</td>\n",
       "      <td>2439498.349</td>\n",
       "      <td>8448.577</td>\n",
       "      <td>POLYGON ((1058422.146283313 870975.0254123217,...</td>\n",
       "    </tr>\n",
       "    <tr>\n",
       "      <th>3</th>\n",
       "      <td>1</td>\n",
       "      <td>Comuna 1</td>\n",
       "      <td>CIUDAD LIMPIA</td>\n",
       "      <td>3842242.577</td>\n",
       "      <td>15518.149</td>\n",
       "      <td>POLYGON ((1054966.676632802 874099.4449846093,...</td>\n",
       "    </tr>\n",
       "    <tr>\n",
       "      <th>4</th>\n",
       "      <td>3</td>\n",
       "      <td>Comuna 3</td>\n",
       "      <td>CIUDAD LIMPIA</td>\n",
       "      <td>3704462.889</td>\n",
       "      <td>11003.318</td>\n",
       "      <td>POLYGON ((1061757.367971685 874615.5337885239,...</td>\n",
       "    </tr>\n",
       "  </tbody>\n",
       "</table>\n",
       "</div>"
      ],
      "text/plain": [
       "   comuna     nombre     zona_recol         area  perimetro  \\\n",
       "0      21  Comuna 21           EMAS  4828926.999  16149.224   \n",
       "1      15  Comuna 15           EMAS  4060432.724  10425.092   \n",
       "2      20  Comuna 20  CIUDAD LIMPIA  2439498.349   8448.577   \n",
       "3       1   Comuna 1  CIUDAD LIMPIA  3842242.577  15518.149   \n",
       "4       3   Comuna 3  CIUDAD LIMPIA  3704462.889  11003.318   \n",
       "\n",
       "                                            geometry  \n",
       "0  POLYGON ((1066474.564146134 872996.1840793319,...  \n",
       "1  POLYGON ((1065485.170884323 869864.0966397388,...  \n",
       "2  POLYGON ((1058422.146283313 870975.0254123217,...  \n",
       "3  POLYGON ((1054966.676632802 874099.4449846093,...  \n",
       "4  POLYGON ((1061757.367971685 874615.5337885239,...  "
      ]
     },
     "execution_count": 19,
     "metadata": {},
     "output_type": "execute_result"
    }
   ],
   "source": [
    "caliShape = gpd.read_file(caliShapeFileUrl)\n",
    "caliShape.head()"
   ]
  },
  {
   "cell_type": "markdown",
   "metadata": {},
   "source": [
    "** Usa la función [plot()](http://geopandas.org/gallery/plotting_with_geoplot.html) de geopandas para ver Cali : **"
   ]
  },
  {
   "cell_type": "code",
   "execution_count": 20,
   "metadata": {},
   "outputs": [
    {
     "data": {
      "text/plain": [
       "<matplotlib.axes._subplots.AxesSubplot at 0x113fbd9e8>"
      ]
     },
     "execution_count": 20,
     "metadata": {},
     "output_type": "execute_result"
    },
    {
     "data": {
      "image/png": "[encoded data removed]",
      "text/plain": [
       "<matplotlib.figure.Figure at 0x113fdb400>"
      ]
     },
     "metadata": {},
     "output_type": "display_data"
    }
   ],
   "source": [
    "caliShape.plot()"
   ]
  },
  {
   "cell_type": "markdown",
   "metadata": {},
   "source": [
    "### Siguiente\n",
    "*Chevre!* Ahora, tenemos un DataFrame con la información de homocidios por comuna por año en Cali, y también tenemos un DataFrame con las formas de las comunas en Cali en una mapa. Unámoslos para hacer una visual interesante!\n",
    "\n",
    "Vamos a utilizar la función [join()](https://pandas.pydata.org/pandas-docs/version/0.24.2/reference/api/pandas.DataFrame.join.html) de pandas para hacer esto."
   ]
  },
  {
   "cell_type": "markdown",
   "metadata": {},
   "source": [
    "** Primero: restructura el DataFrame de homocidios para ser compatible con los datos de mapa: **\n",
    "- Esto nos permite fusionar los DataFrames juntos."
   ]
  },
  {
   "cell_type": "code",
   "execution_count": 21,
   "metadata": {},
   "outputs": [
    {
     "ename": "NameError",
     "evalue": "name 'datosLimpios' is not defined",
     "output_type": "error",
     "traceback": [
      "\u001b[0;31m---------------------------------------------------------------------------\u001b[0m",
      "\u001b[0;31mNameError\u001b[0m                                 Traceback (most recent call last)",
      "\u001b[0;32m<ipython-input-21-30d2f05ae967>\u001b[0m in \u001b[0;36m<module>\u001b[0;34m()\u001b[0m\n\u001b[1;32m      1\u001b[0m \u001b[0;31m#restructura el dataframe para ser compatible con los datos de mapa\u001b[0m\u001b[0;34m\u001b[0m\u001b[0;34m\u001b[0m\u001b[0m\n\u001b[0;32m----> 2\u001b[0;31m \u001b[0mdatosLimpios\u001b[0m\u001b[0;34m.\u001b[0m\u001b[0mreset_index\u001b[0m\u001b[0;34m(\u001b[0m\u001b[0minplace\u001b[0m\u001b[0;34m=\u001b[0m\u001b[0;32mTrue\u001b[0m\u001b[0;34m)\u001b[0m\u001b[0;34m\u001b[0m\u001b[0m\n\u001b[0m\u001b[1;32m      3\u001b[0m \u001b[0mdatosLimpios\u001b[0m \u001b[0;34m=\u001b[0m \u001b[0mdatosLimpios\u001b[0m\u001b[0;34m.\u001b[0m\u001b[0mapply\u001b[0m\u001b[0;34m(\u001b[0m\u001b[0mpd\u001b[0m\u001b[0;34m.\u001b[0m\u001b[0mto_numeric\u001b[0m\u001b[0;34m)\u001b[0m\u001b[0;34m\u001b[0m\u001b[0m\n\u001b[1;32m      4\u001b[0m \u001b[0mdatosLimpios\u001b[0m\u001b[0;34m.\u001b[0m\u001b[0mset_index\u001b[0m\u001b[0;34m(\u001b[0m\u001b[0;34m'No'\u001b[0m\u001b[0;34m)\u001b[0m\u001b[0;34m\u001b[0m\u001b[0m\n\u001b[1;32m      5\u001b[0m \u001b[0mdatosLimpios\u001b[0m\u001b[0;34m.\u001b[0m\u001b[0mindex\u001b[0m\u001b[0;34m.\u001b[0m\u001b[0mnames\u001b[0m\u001b[0;34m=\u001b[0m\u001b[0;34m[\u001b[0m\u001b[0;34m'comuna'\u001b[0m\u001b[0;34m]\u001b[0m\u001b[0;34m\u001b[0m\u001b[0m\n",
      "\u001b[0;31mNameError\u001b[0m: name 'datosLimpios' is not defined"
     ]
    }
   ],
   "source": [
    "#restructura el dataframe para ser compatible con los datos de mapa\n",
    "datosLimpios.reset_index(inplace=True)\n",
    "datosLimpios = datosLimpios.apply(pd.to_numeric)\n",
    "datosLimpios.set_index('No')\n",
    "datosLimpios.index.names=['comuna']\n",
    "datosLimpios.head()"
   ]
  },
  {
   "cell_type": "markdown",
   "metadata": {},
   "source": [
    "** Segundo: resetructura el DataFrame de Cali ShapeFile para tener 'comuna' para el índice **"
   ]
  },
  {
   "cell_type": "code",
   "execution_count": 22,
   "metadata": {
    "collapsed": true
   },
   "outputs": [],
   "source": [
    "#establecer el índice para ser el número de la comuna\n",
    "caliShape.set_index('comuna', inplace=True)"
   ]
  },
  {
   "cell_type": "markdown",
   "metadata": {},
   "source": [
    "** Tercero: Usa la función [join()](https://pandas.pydata.org/pandas-docs/version/0.24.2/reference/api/pandas.DataFrame.join.html) de pandas para fusionar los DataFrames **"
   ]
  },
  {
   "cell_type": "code",
   "execution_count": 26,
   "metadata": {},
   "outputs": [
    {
     "ename": "SyntaxError",
     "evalue": "invalid syntax (<ipython-input-26-1e4aeadefccd>, line 3)",
     "output_type": "error",
     "traceback": [
      "\u001b[0;36m  File \u001b[0;32m\"<ipython-input-26-1e4aeadefccd>\"\u001b[0;36m, line \u001b[0;32m3\u001b[0m\n\u001b[0;31m    totalData =\u001b[0m\n\u001b[0m                ^\u001b[0m\n\u001b[0;31mSyntaxError\u001b[0m\u001b[0;31m:\u001b[0m invalid syntax\n"
     ]
    }
   ],
   "source": [
    "#para usa la función join()\n",
    "#Por Ejemplo : caliShape.join()\n",
    "totalData = "
   ]
  },
  {
   "cell_type": "code",
   "execution_count": 27,
   "metadata": {
    "collapsed": true
   },
   "outputs": [],
   "source": [
    "#Esta función es para hacer que el mapa se vea bonito\n",
    "def personalizaLaMapa(vmin, vmax):\n",
    "    # quitar el eje\n",
    "    ax.axis('off')\n",
    "\n",
    "    # título\n",
    "    ax.set_title('Número de homicidios en 2001 por distrito en Cali', \\\n",
    "                  fontdict={'fontsize': '25',\n",
    "                            'fontweight' : '3'})\n",
    "\n",
    "    # fuente de los datos\n",
    "    ax.annotate('Source: Datos Abiertos, Alcaldía de Cali',\n",
    "               xy=(0.1, .08), xycoords='figure fraction',\n",
    "               horizontalalignment='left', verticalalignment='top',\n",
    "               fontsize=10, color='#555555')\n",
    "\n",
    "    # Crear una barra de colores como la leyenda del mapa\n",
    "    sm = plt.cm.ScalarMappable(cmap='Blues', norm=plt.Normalize(vmin=vmin, vmax=vmax))\n",
    "    sm._A = []\n",
    "    cbar = fig.colorbar(sm)"
   ]
  },
  {
   "cell_type": "markdown",
   "metadata": {},
   "source": [
    "** Trata de usar la función de [plot()](http://geopandas.org/gallery/plotting_with_geoplot.html) en geopandas para visualiza todos en el mapa de Cali : **\n",
    "- primero, solo por un año\n",
    "- usa la función 'personalizaLaMapa' para hacer que el mapa se vea bonito\n",
    "- despues, guarda la figure en una imagen de png con la función [savefig()](https://matplotlib.org/3.1.1/api/_as_gen/matplotlib.pyplot.savefig.html)"
   ]
  },
  {
   "cell_type": "markdown",
   "metadata": {},
   "source": [
    "** ¡Intenta cambiar algunos de estos números y ve qué pasa con la mapa! **"
   ]
  },
  {
   "cell_type": "code",
   "execution_count": 28,
   "metadata": {},
   "outputs": [
    {
     "ename": "NameError",
     "evalue": "name 'totalData' is not defined",
     "output_type": "error",
     "traceback": [
      "\u001b[0;31m---------------------------------------------------------------------------\u001b[0m",
      "\u001b[0;31mNameError\u001b[0m                                 Traceback (most recent call last)",
      "\u001b[0;32m<ipython-input-28-e2af837489fe>\u001b[0m in \u001b[0;36m<module>\u001b[0;34m()\u001b[0m\n\u001b[1;32m      5\u001b[0m \u001b[0;31m#crear una figura en matplotlib\u001b[0m\u001b[0;34m\u001b[0m\u001b[0;34m\u001b[0m\u001b[0m\n\u001b[1;32m      6\u001b[0m \u001b[0mfig\u001b[0m\u001b[0;34m,\u001b[0m \u001b[0max\u001b[0m \u001b[0;34m=\u001b[0m \u001b[0mplt\u001b[0m\u001b[0;34m.\u001b[0m\u001b[0msubplots\u001b[0m\u001b[0;34m(\u001b[0m\u001b[0;36m1\u001b[0m\u001b[0;34m,\u001b[0m \u001b[0mfigsize\u001b[0m\u001b[0;34m=\u001b[0m\u001b[0;34m(\u001b[0m\u001b[0;36m10\u001b[0m\u001b[0;34m,\u001b[0m \u001b[0;36m10\u001b[0m\u001b[0;34m)\u001b[0m\u001b[0;34m)\u001b[0m\u001b[0;34m\u001b[0m\u001b[0m\n\u001b[0;32m----> 7\u001b[0;31m \u001b[0mtotalData\u001b[0m\u001b[0;34m.\u001b[0m\u001b[0mplot\u001b[0m\u001b[0;34m(\u001b[0m\u001b[0mcolumn\u001b[0m\u001b[0;34m=\u001b[0m\u001b[0myear\u001b[0m\u001b[0;34m,\u001b[0m \u001b[0mcmap\u001b[0m\u001b[0;34m=\u001b[0m\u001b[0;34m'Blues'\u001b[0m\u001b[0;34m,\u001b[0m \u001b[0max\u001b[0m\u001b[0;34m=\u001b[0m\u001b[0max\u001b[0m\u001b[0;34m)\u001b[0m\u001b[0;34m\u001b[0m\u001b[0m\n\u001b[0m\u001b[1;32m      8\u001b[0m \u001b[0;34m\u001b[0m\u001b[0m\n\u001b[1;32m      9\u001b[0m \u001b[0;31m# Personalización\u001b[0m\u001b[0;34m\u001b[0m\u001b[0;34m\u001b[0m\u001b[0m\n",
      "\u001b[0;31mNameError\u001b[0m: name 'totalData' is not defined"
     ]
    },
    {
     "data": {
      "image/png": "[encoded data removed]",
      "text/plain": [
       "<matplotlib.figure.Figure at 0x11ad18198>"
      ]
     },
     "metadata": {},
     "output_type": "display_data"
    }
   ],
   "source": [
    "#el año (year) que queremos ver\n",
    "year = 2001\n",
    "vmin, vmax = 0, 250\n",
    "\n",
    "#crear una figura en matplotlib\n",
    "fig, ax = plt.subplots(1, figsize=(10, 10))\n",
    "totalData.plot(column=year, cmap='Blues', ax=ax)\n",
    "\n",
    "# Personalización\n",
    "\n",
    "personalizaLaMapa(vmin, vmax)\n",
    "\n",
    "# esto guardará la figura como un png de alta resolución. También puede guardar como svg\n",
    "fig.savefig('mapadehomocidios.png', dpi=300)"
   ]
  },
  {
   "cell_type": "markdown",
   "metadata": {},
   "source": [
    "# Buen Trabajo!\n",
    "\n",
    "Muy genial! Utilizamos datos de la plataforma de [Datos Abiertos, Cali](http://datos.cali.gov.co/) y creamos nuestro propio visual! ¿Qué otros conjuntos de datos geniales podemos utilizar?"
   ]
  },
  {
   "cell_type": "markdown",
   "metadata": {},
   "source": [
    "![Homocidios](https://media.giphy.com/media/fSRR6jTOJggap5KGS9/giphy.gif \"homocidios\")"
   ]
  },
  {
   "cell_type": "markdown",
   "metadata": {},
   "source": [
    "<hr/>"
   ]
  },
  {
   "cell_type": "markdown",
   "metadata": {},
   "source": [
    "## Fin."
   ]
  },
  {
   "cell_type": "markdown",
   "metadata": {},
   "source": [
    "<hr/>"
   ]
  },
  {
   "cell_type": "code",
   "execution_count": null,
   "metadata": {
    "collapsed": true
   },
   "outputs": [],
   "source": []
  }
 ],
 "metadata": {
  "kernelspec": {
   "display_name": "Python 3",
   "language": "python",
   "name": "python3"
  },
  "language_info": {
   "codemirror_mode": {
    "name": "ipython",
    "version": 3
   },
   "file_extension": ".py",
   "mimetype": "text/x-python",
   "name": "python",
   "nbconvert_exporter": "python",
   "pygments_lexer": "ipython3",
   "version": "3.6.1"
  }
 },
 "nbformat": 4,
 "nbformat_minor": 2
}
